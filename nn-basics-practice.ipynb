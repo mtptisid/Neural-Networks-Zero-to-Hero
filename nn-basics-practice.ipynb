{
 "cells": [
  {
   "cell_type": "markdown",
   "id": "1e38b7a6",
   "metadata": {},
   "source": [
    "## intro to neural networks and backpropagation"
   ]
  },
  {
   "cell_type": "code",
   "execution_count": null,
   "id": "a30d587c",
   "metadata": {
    "vscode": {
     "languageId": "plaintext"
    }
   },
   "outputs": [],
   "source": [
    "import math\n",
    "import numpy as np\n",
    "import matplotlib.pyplot as plt\n",
    "%matplotlib inline"
   ]
  },
  {
   "cell_type": "code",
   "execution_count": null,
   "id": "07a4b089",
   "metadata": {
    "vscode": {
     "languageId": "plaintext"
    }
   },
   "outputs": [],
   "source": [
    "def f(x):\n",
    "  return 3*x**2 - 4*x + 5"
   ]
  }
 ],
 "metadata": {
  "language_info": {
   "name": "python"
  }
 },
 "nbformat": 4,
 "nbformat_minor": 5
}
